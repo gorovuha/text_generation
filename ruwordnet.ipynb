{
  "nbformat": 4,
  "nbformat_minor": 0,
  "metadata": {
    "colab": {
      "provenance": [],
      "mount_file_id": "1S7AW8-uLE3v_YuT5wdfcqFYoFFDk9g8p",
      "authorship_tag": "ABX9TyNYV5jRaPCbt1EfmrZZJ+rC",
      "include_colab_link": true
    },
    "kernelspec": {
      "name": "python3",
      "display_name": "Python 3"
    },
    "language_info": {
      "name": "python"
    },
    "widgets": {
      "application/vnd.jupyter.widget-state+json": {
        "677fa4d006744cd88db5ec2b1e9382da": {
          "model_module": "@jupyter-widgets/controls",
          "model_name": "HBoxModel",
          "model_module_version": "1.5.0",
          "state": {
            "_dom_classes": [],
            "_model_module": "@jupyter-widgets/controls",
            "_model_module_version": "1.5.0",
            "_model_name": "HBoxModel",
            "_view_count": null,
            "_view_module": "@jupyter-widgets/controls",
            "_view_module_version": "1.5.0",
            "_view_name": "HBoxView",
            "box_style": "",
            "children": [
              "IPY_MODEL_404c4f34f61b47dfb47d9ad9b86c9670",
              "IPY_MODEL_5fb78878ee64490b82d11dbb95faadfc",
              "IPY_MODEL_eae37aa1c67949a99637a67262671c52"
            ],
            "layout": "IPY_MODEL_97bf9b3501a94e388903d314e01114fa"
          }
        },
        "404c4f34f61b47dfb47d9ad9b86c9670": {
          "model_module": "@jupyter-widgets/controls",
          "model_name": "HTMLModel",
          "model_module_version": "1.5.0",
          "state": {
            "_dom_classes": [],
            "_model_module": "@jupyter-widgets/controls",
            "_model_module_version": "1.5.0",
            "_model_name": "HTMLModel",
            "_view_count": null,
            "_view_module": "@jupyter-widgets/controls",
            "_view_module_version": "1.5.0",
            "_view_name": "HTMLView",
            "description": "",
            "description_tooltip": null,
            "layout": "IPY_MODEL_c7a1b68e9d754270b9fb952a92078897",
            "placeholder": "​",
            "style": "IPY_MODEL_81cead0a3c09428193448c0ece3a2f53",
            "value": "100%"
          }
        },
        "5fb78878ee64490b82d11dbb95faadfc": {
          "model_module": "@jupyter-widgets/controls",
          "model_name": "FloatProgressModel",
          "model_module_version": "1.5.0",
          "state": {
            "_dom_classes": [],
            "_model_module": "@jupyter-widgets/controls",
            "_model_module_version": "1.5.0",
            "_model_name": "FloatProgressModel",
            "_view_count": null,
            "_view_module": "@jupyter-widgets/controls",
            "_view_module_version": "1.5.0",
            "_view_name": "ProgressView",
            "bar_style": "success",
            "description": "",
            "description_tooltip": null,
            "layout": "IPY_MODEL_a2656c45bd1e47c08c3463f7d1333dc1",
            "max": 59905,
            "min": 0,
            "orientation": "horizontal",
            "style": "IPY_MODEL_84b1388329c048c5bcf0eaf90bd50730",
            "value": 59905
          }
        },
        "eae37aa1c67949a99637a67262671c52": {
          "model_module": "@jupyter-widgets/controls",
          "model_name": "HTMLModel",
          "model_module_version": "1.5.0",
          "state": {
            "_dom_classes": [],
            "_model_module": "@jupyter-widgets/controls",
            "_model_module_version": "1.5.0",
            "_model_name": "HTMLModel",
            "_view_count": null,
            "_view_module": "@jupyter-widgets/controls",
            "_view_module_version": "1.5.0",
            "_view_name": "HTMLView",
            "description": "",
            "description_tooltip": null,
            "layout": "IPY_MODEL_e78f249bed074e11b4757dcb8eb206a3",
            "placeholder": "​",
            "style": "IPY_MODEL_c9f280e5985f438984a5661beb76feeb",
            "value": " 59905/59905 [11:17&lt;00:00,  7.61it/s]"
          }
        },
        "97bf9b3501a94e388903d314e01114fa": {
          "model_module": "@jupyter-widgets/base",
          "model_name": "LayoutModel",
          "model_module_version": "1.2.0",
          "state": {
            "_model_module": "@jupyter-widgets/base",
            "_model_module_version": "1.2.0",
            "_model_name": "LayoutModel",
            "_view_count": null,
            "_view_module": "@jupyter-widgets/base",
            "_view_module_version": "1.2.0",
            "_view_name": "LayoutView",
            "align_content": null,
            "align_items": null,
            "align_self": null,
            "border": null,
            "bottom": null,
            "display": null,
            "flex": null,
            "flex_flow": null,
            "grid_area": null,
            "grid_auto_columns": null,
            "grid_auto_flow": null,
            "grid_auto_rows": null,
            "grid_column": null,
            "grid_gap": null,
            "grid_row": null,
            "grid_template_areas": null,
            "grid_template_columns": null,
            "grid_template_rows": null,
            "height": null,
            "justify_content": null,
            "justify_items": null,
            "left": null,
            "margin": null,
            "max_height": null,
            "max_width": null,
            "min_height": null,
            "min_width": null,
            "object_fit": null,
            "object_position": null,
            "order": null,
            "overflow": null,
            "overflow_x": null,
            "overflow_y": null,
            "padding": null,
            "right": null,
            "top": null,
            "visibility": null,
            "width": null
          }
        },
        "c7a1b68e9d754270b9fb952a92078897": {
          "model_module": "@jupyter-widgets/base",
          "model_name": "LayoutModel",
          "model_module_version": "1.2.0",
          "state": {
            "_model_module": "@jupyter-widgets/base",
            "_model_module_version": "1.2.0",
            "_model_name": "LayoutModel",
            "_view_count": null,
            "_view_module": "@jupyter-widgets/base",
            "_view_module_version": "1.2.0",
            "_view_name": "LayoutView",
            "align_content": null,
            "align_items": null,
            "align_self": null,
            "border": null,
            "bottom": null,
            "display": null,
            "flex": null,
            "flex_flow": null,
            "grid_area": null,
            "grid_auto_columns": null,
            "grid_auto_flow": null,
            "grid_auto_rows": null,
            "grid_column": null,
            "grid_gap": null,
            "grid_row": null,
            "grid_template_areas": null,
            "grid_template_columns": null,
            "grid_template_rows": null,
            "height": null,
            "justify_content": null,
            "justify_items": null,
            "left": null,
            "margin": null,
            "max_height": null,
            "max_width": null,
            "min_height": null,
            "min_width": null,
            "object_fit": null,
            "object_position": null,
            "order": null,
            "overflow": null,
            "overflow_x": null,
            "overflow_y": null,
            "padding": null,
            "right": null,
            "top": null,
            "visibility": null,
            "width": null
          }
        },
        "81cead0a3c09428193448c0ece3a2f53": {
          "model_module": "@jupyter-widgets/controls",
          "model_name": "DescriptionStyleModel",
          "model_module_version": "1.5.0",
          "state": {
            "_model_module": "@jupyter-widgets/controls",
            "_model_module_version": "1.5.0",
            "_model_name": "DescriptionStyleModel",
            "_view_count": null,
            "_view_module": "@jupyter-widgets/base",
            "_view_module_version": "1.2.0",
            "_view_name": "StyleView",
            "description_width": ""
          }
        },
        "a2656c45bd1e47c08c3463f7d1333dc1": {
          "model_module": "@jupyter-widgets/base",
          "model_name": "LayoutModel",
          "model_module_version": "1.2.0",
          "state": {
            "_model_module": "@jupyter-widgets/base",
            "_model_module_version": "1.2.0",
            "_model_name": "LayoutModel",
            "_view_count": null,
            "_view_module": "@jupyter-widgets/base",
            "_view_module_version": "1.2.0",
            "_view_name": "LayoutView",
            "align_content": null,
            "align_items": null,
            "align_self": null,
            "border": null,
            "bottom": null,
            "display": null,
            "flex": null,
            "flex_flow": null,
            "grid_area": null,
            "grid_auto_columns": null,
            "grid_auto_flow": null,
            "grid_auto_rows": null,
            "grid_column": null,
            "grid_gap": null,
            "grid_row": null,
            "grid_template_areas": null,
            "grid_template_columns": null,
            "grid_template_rows": null,
            "height": null,
            "justify_content": null,
            "justify_items": null,
            "left": null,
            "margin": null,
            "max_height": null,
            "max_width": null,
            "min_height": null,
            "min_width": null,
            "object_fit": null,
            "object_position": null,
            "order": null,
            "overflow": null,
            "overflow_x": null,
            "overflow_y": null,
            "padding": null,
            "right": null,
            "top": null,
            "visibility": null,
            "width": null
          }
        },
        "84b1388329c048c5bcf0eaf90bd50730": {
          "model_module": "@jupyter-widgets/controls",
          "model_name": "ProgressStyleModel",
          "model_module_version": "1.5.0",
          "state": {
            "_model_module": "@jupyter-widgets/controls",
            "_model_module_version": "1.5.0",
            "_model_name": "ProgressStyleModel",
            "_view_count": null,
            "_view_module": "@jupyter-widgets/base",
            "_view_module_version": "1.2.0",
            "_view_name": "StyleView",
            "bar_color": null,
            "description_width": ""
          }
        },
        "e78f249bed074e11b4757dcb8eb206a3": {
          "model_module": "@jupyter-widgets/base",
          "model_name": "LayoutModel",
          "model_module_version": "1.2.0",
          "state": {
            "_model_module": "@jupyter-widgets/base",
            "_model_module_version": "1.2.0",
            "_model_name": "LayoutModel",
            "_view_count": null,
            "_view_module": "@jupyter-widgets/base",
            "_view_module_version": "1.2.0",
            "_view_name": "LayoutView",
            "align_content": null,
            "align_items": null,
            "align_self": null,
            "border": null,
            "bottom": null,
            "display": null,
            "flex": null,
            "flex_flow": null,
            "grid_area": null,
            "grid_auto_columns": null,
            "grid_auto_flow": null,
            "grid_auto_rows": null,
            "grid_column": null,
            "grid_gap": null,
            "grid_row": null,
            "grid_template_areas": null,
            "grid_template_columns": null,
            "grid_template_rows": null,
            "height": null,
            "justify_content": null,
            "justify_items": null,
            "left": null,
            "margin": null,
            "max_height": null,
            "max_width": null,
            "min_height": null,
            "min_width": null,
            "object_fit": null,
            "object_position": null,
            "order": null,
            "overflow": null,
            "overflow_x": null,
            "overflow_y": null,
            "padding": null,
            "right": null,
            "top": null,
            "visibility": null,
            "width": null
          }
        },
        "c9f280e5985f438984a5661beb76feeb": {
          "model_module": "@jupyter-widgets/controls",
          "model_name": "DescriptionStyleModel",
          "model_module_version": "1.5.0",
          "state": {
            "_model_module": "@jupyter-widgets/controls",
            "_model_module_version": "1.5.0",
            "_model_name": "DescriptionStyleModel",
            "_view_count": null,
            "_view_module": "@jupyter-widgets/base",
            "_view_module_version": "1.2.0",
            "_view_name": "StyleView",
            "description_width": ""
          }
        }
      }
    }
  },
  "cells": [
    {
      "cell_type": "markdown",
      "metadata": {
        "id": "view-in-github",
        "colab_type": "text"
      },
      "source": [
        "<a href=\"https://colab.research.google.com/github/gorovuha/text_generation/blob/main/ruwordnet.ipynb\" target=\"_parent\"><img src=\"https://colab.research.google.com/assets/colab-badge.svg\" alt=\"Open In Colab\"/></a>"
      ]
    },
    {
      "cell_type": "code",
      "execution_count": null,
      "metadata": {
        "id": "tesNz38Bauqb"
      },
      "outputs": [],
      "source": [
        "!pip install numpy scikit-learn compress-fasttext xmltodict matplotlib"
      ]
    },
    {
      "cell_type": "code",
      "source": [
        "!pip install ruwordnet"
      ],
      "metadata": {
        "id": "Nmrz5V13cHfM"
      },
      "execution_count": null,
      "outputs": []
    },
    {
      "cell_type": "code",
      "source": [
        "!ruwordnet download"
      ],
      "metadata": {
        "colab": {
          "base_uri": "https://localhost:8080/"
        },
        "id": "XF037M0_cmVa",
        "outputId": "196f1784-e8b5-4894-cdf6-efb7dc03d905"
      },
      "execution_count": 6,
      "outputs": [
        {
          "output_type": "stream",
          "name": "stdout",
          "text": [
            "downloading a ruwordnet model from https://github.com/avidale/python-ruwordnet/releases/download/0.0.4/ruwordnet-2021.db\n"
          ]
        }
      ]
    },
    {
      "cell_type": "code",
      "source": [
        "from ruwordnet import RuWordNet\n",
        "wn = RuWordNet()"
      ],
      "metadata": {
        "id": "3KS1SwCCbcm0"
      },
      "execution_count": 7,
      "outputs": []
    },
    {
      "cell_type": "code",
      "source": [
        "len(wn.synsets), len(wn.senses)"
      ],
      "metadata": {
        "colab": {
          "base_uri": "https://localhost:8080/"
        },
        "id": "GUyhSoKXc_8j",
        "outputId": "f47cea89-b069-47d1-f79c-ecfbc6db2ca3"
      },
      "execution_count": 8,
      "outputs": [
        {
          "output_type": "execute_result",
          "data": {
            "text/plain": [
              "(59905, 154111)"
            ]
          },
          "metadata": {},
          "execution_count": 8
        }
      ]
    },
    {
      "cell_type": "code",
      "source": [
        "import numpy as np\n",
        "import compress_fasttext\n",
        "\n",
        "from collections import Counter\n",
        "from sklearn.neighbors import KDTree\n",
        "\n",
        "import matplotlib.pyplot as plt\n",
        "%matplotlib inline"
      ],
      "metadata": {
        "id": "ObCCw6-Zd-8V"
      },
      "execution_count": 9,
      "outputs": []
    },
    {
      "cell_type": "code",
      "source": [
        "from gensim.models.fasttext import ft_ngram_hashes\n",
        "ft = compress_fasttext.models.CompressedFastTextKeyedVectors.load(\n",
        "    '/content/geowac_tokens_sg_300_5_2020-100K-20K-100.bin'\n",
        ")"
      ],
      "metadata": {
        "id": "aYCHgvjTeBwv"
      },
      "execution_count": 11,
      "outputs": []
    },
    {
      "cell_type": "code",
      "source": [
        "def vectorize(text):\n",
        "    vec = np.mean([ft[word] for word in text.lower().split() if len(word) >= 3], axis=0)\n",
        "    vec /= sum(vec**2) ** 0.5 \n",
        "    return vec\n",
        "\n",
        "def distance2vote(d, a=3, b=5):\n",
        "    sim = np.maximum(0, 1 - d**2/2)\n",
        "    return np.exp(-d**a) * sim **b"
      ],
      "metadata": {
        "id": "IKVnBnEPfnDg"
      },
      "execution_count": 12,
      "outputs": []
    },
    {
      "cell_type": "code",
      "source": [
        "x = np.linspace(0, 1)\n",
        "plt.plot(x, distance2vote(x))\n",
        "plt.xlabel('Расстояние до соседа')\n",
        "plt.ylabel('Вес голоса соседа')\n",
        "plt.title('Функция взвешивания соседей');"
      ],
      "metadata": {
        "colab": {
          "base_uri": "https://localhost:8080/",
          "height": 295
        },
        "id": "fVpkhvmBgGqq",
        "outputId": "891113de-5c19-416a-b0ae-96115c601ed7"
      },
      "execution_count": 13,
      "outputs": [
        {
          "output_type": "display_data",
          "data": {
            "text/plain": [
              "<Figure size 432x288 with 1 Axes>"
            ],
            "image/png": "[encoded data removed]"
          },
          "metadata": {
            "needs_background": "light"
          }
        }
      ]
    },
    {
      "cell_type": "code",
      "source": [
        "from tqdm.auto import tqdm, trange"
      ],
      "metadata": {
        "id": "Gz_6uVvUgKsi"
      },
      "execution_count": 14,
      "outputs": []
    },
    {
      "cell_type": "code",
      "source": [
        "words, vectors, synset_ids = [], [], []\n",
        "for synset in tqdm(wn.synsets):\n",
        "    if synset.part_of_speech != 'V':\n",
        "        continue\n",
        "    for sense in synset.senses:\n",
        "        words.append(sense.name)\n",
        "        vectors.append(vectorize(sense.name))\n",
        "        synset_ids.append(synset.id)\n",
        "vectors = np.stack(vectors)\n",
        "tree = KDTree(vectors)"
      ],
      "metadata": {
        "colab": {
          "base_uri": "https://localhost:8080/",
          "height": 49,
          "referenced_widgets": [
            "677fa4d006744cd88db5ec2b1e9382da",
            "404c4f34f61b47dfb47d9ad9b86c9670",
            "5fb78878ee64490b82d11dbb95faadfc",
            "eae37aa1c67949a99637a67262671c52",
            "97bf9b3501a94e388903d314e01114fa",
            "c7a1b68e9d754270b9fb952a92078897",
            "81cead0a3c09428193448c0ece3a2f53",
            "a2656c45bd1e47c08c3463f7d1333dc1",
            "84b1388329c048c5bcf0eaf90bd50730",
            "e78f249bed074e11b4757dcb8eb206a3",
            "c9f280e5985f438984a5661beb76feeb"
          ]
        },
        "id": "x3b2wUBIgN0b",
        "outputId": "56735569-333c-4af1-d37b-19e6c72e8ece"
      },
      "execution_count": 17,
      "outputs": [
        {
          "output_type": "display_data",
          "data": {
            "text/plain": [
              "  0%|          | 0/59905 [00:00<?, ?it/s]"
            ],
            "application/vnd.jupyter.widget-view+json": {
              "version_major": 2,
              "version_minor": 0,
              "model_id": "677fa4d006744cd88db5ec2b1e9382da"
            }
          },
          "metadata": {}
        }
      ]
    },
    {
      "cell_type": "code",
      "source": [
        "votes = Counter()\n",
        "dists, ids = tree.query(vectorize('лежать').reshape(1, -1), k=100)\n",
        "for idx, distance in zip(ids[0], dists[0]):\n",
        "    #for hyper in wn[synset_ids[idx]].hypernyms:\n",
        "     #   votes[hyper.id] += distance2vote(distance)\n",
        "    for syn in wn[synset_ids[idx]].pos_synonyms:\n",
        "        votes[syn.id] += distance2vote(distance)\n",
        "    for ant in wn[synset_ids[idx]].antonyms:\n",
        "        votes[ant.id] += distance2vote(distance)"
      ],
      "metadata": {
        "id": "hA_1SkhalsDW"
      },
      "execution_count": 28,
      "outputs": []
    },
    {
      "cell_type": "code",
      "source": [
        "for sid, score in votes.most_common(10):\n",
        "    print(score,  wn[sid].title)"
      ],
      "metadata": {
        "colab": {
          "base_uri": "https://localhost:8080/"
        },
        "id": "F7Zh-p3Dl7r_",
        "outputId": "36241e29-05e3-4adf-c9bb-85bcbbc7b355"
      },
      "execution_count": 29,
      "outputs": [
        {
          "output_type": "stream",
          "name": "stdout",
          "text": [
            "1.9961170343147885 ЛЕЖАТЬ В СТАЦИОНАРЕ\n",
            "1.4316198113860397 ЛЕЖАТЬ (НАХОДИТЬСЯ ВСЕМ ТЕЛОМ НА ПОВЕРХНОСТИ)\n",
            "1.4316198113860397 ЛЕЖАТЬ (НАХОДИТЬСЯ ВСЕМ ТЕЛОМ НА ПОВЕРХНОСТИ)\n",
            "1.3385958341412265 ЛЕЖАТЬ (НАХОДИТЬСЯ О ПРЕДМЕТАХ (ГОРИЗОНТАЛЬНО)\n",
            "1.3385958341412265 ЛЕЖАТЬ (НАХОДИТЬСЯ О ПРЕДМЕТАХ (ГОРИЗОНТАЛЬНО)\n",
            "1.0 ПРОЛЕГАТЬ, ПРОХОДИТЬ\n",
            "0.556461916048211 РАЗЛЕЖИВАТЬСЯ БЕЗ ДЕЛА\n",
            "0.19468962226572223 БЕССОЗНАТЕЛЬНОЕ СОСТОЯНИЕ\n",
            "0.19468962226572223 БЕССОЗНАТЕЛЬНОЕ СОСТОЯНИЕ\n",
            "0.18157607312486423 ПОЛУСИДЯЧЕЕ ПОЛОЖЕНИЕ\n"
          ]
        }
      ]
    }
  ]
}